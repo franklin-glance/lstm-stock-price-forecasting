{
 "cells": [
  {
   "cell_type": "code",
   "execution_count": 1,
   "metadata": {
    "collapsed": true
   },
   "outputs": [
    {
     "name": "stdout",
     "output_type": "stream",
     "text": [
      "loading TIME_SERIES_DAILY_ADJUSTED data from cache for TSLA...\n"
     ]
    }
   ],
   "source": [
    "import pandas as pd\n",
    "import matplotlib.pyplot as plt\n",
    "import numpy as np\n",
    "import dataconfig"
   ]
  },
  {
   "cell_type": "code",
   "execution_count": 2,
   "outputs": [
    {
     "name": "stdout",
     "output_type": "stream",
     "text": [
      "loading LISTING_STATUS data from api and storing to cache for 2022-07-25...\n",
      "loading CONSUMER_SENTIMENT data from cache ...\n",
      "Retrieving data for TSLA\n",
      "loading TIME_SERIES_DAILY_ADJUSTED data from cache for TSLA...\n",
      "loading TIME_SERIES_WEEKLY_ADJUSTED data from cache for TSLA...\n",
      "loading TIME_SERIES_MONTHLY_ADJUSTED data from cache for TSLA...\n"
     ]
    },
    {
     "data": {
      "text/plain": "                                          TSLA\nTSLA  <dataconfig.Stock object at 0x145815190>",
      "text/html": "<div>\n<style scoped>\n    .dataframe tbody tr th:only-of-type {\n        vertical-align: middle;\n    }\n\n    .dataframe tbody tr th {\n        vertical-align: top;\n    }\n\n    .dataframe thead th {\n        text-align: right;\n    }\n</style>\n<table border=\"1\" class=\"dataframe\">\n  <thead>\n    <tr style=\"text-align: right;\">\n      <th></th>\n      <th>TSLA</th>\n    </tr>\n  </thead>\n  <tbody>\n    <tr>\n      <th>TSLA</th>\n      <td>&lt;dataconfig.Stock object at 0x145815190&gt;</td>\n    </tr>\n  </tbody>\n</table>\n</div>"
     },
     "execution_count": 2,
     "metadata": {},
     "output_type": "execute_result"
    }
   ],
   "source": [
    "dc = dataconfig.DataConfig()\n",
    "dc.getdata(['TSLA'])\n"
   ],
   "metadata": {
    "collapsed": false,
    "pycharm": {
     "name": "#%%\n"
    }
   }
  },
  {
   "cell_type": "code",
   "execution_count": 6,
   "outputs": [
    {
     "data": {
      "text/plain": "              open     high       low   close 5. adjusted close 6. volume  \\\n2022-07-22  828.66   842.36    812.14  816.73            816.73  34490949   \n2022-07-21  765.32    819.8     764.6  815.12            815.12  47344059   \n2022-07-20  740.35   751.99   730.449   742.5             742.5  29621363   \n2022-07-19   735.0   741.42    710.93  736.59            736.59  26963370   \n2022-07-18  734.81   751.55    718.81  721.64            721.64  27512476   \n...            ...      ...       ...     ...               ...       ...   \n2022-03-07   856.3   866.14    804.57  804.58            804.58  24164724   \n2022-03-04   849.1   855.65  825.1609  838.29            838.29  22393287   \n2022-03-03  878.77  886.439  832.6001  839.29            839.29  20541169   \n2022-03-02  872.13   886.48  844.2721  879.89            879.89  24881146   \n2022-03-01  869.68   889.88    853.78  864.37            864.37  24922287   \n\n           7. dividend amount 8. split coefficient  \n2022-07-22             0.0000                  1.0  \n2022-07-21             0.0000                  1.0  \n2022-07-20             0.0000                  1.0  \n2022-07-19             0.0000                  1.0  \n2022-07-18             0.0000                  1.0  \n...                       ...                  ...  \n2022-03-07             0.0000                  1.0  \n2022-03-04             0.0000                  1.0  \n2022-03-03             0.0000                  1.0  \n2022-03-02             0.0000                  1.0  \n2022-03-01             0.0000                  1.0  \n\n[100 rows x 8 columns]",
      "text/html": "<div>\n<style scoped>\n    .dataframe tbody tr th:only-of-type {\n        vertical-align: middle;\n    }\n\n    .dataframe tbody tr th {\n        vertical-align: top;\n    }\n\n    .dataframe thead th {\n        text-align: right;\n    }\n</style>\n<table border=\"1\" class=\"dataframe\">\n  <thead>\n    <tr style=\"text-align: right;\">\n      <th></th>\n      <th>open</th>\n      <th>high</th>\n      <th>low</th>\n      <th>close</th>\n      <th>5. adjusted close</th>\n      <th>6. volume</th>\n      <th>7. dividend amount</th>\n      <th>8. split coefficient</th>\n    </tr>\n  </thead>\n  <tbody>\n    <tr>\n      <th>2022-07-22</th>\n      <td>828.66</td>\n      <td>842.36</td>\n      <td>812.14</td>\n      <td>816.73</td>\n      <td>816.73</td>\n      <td>34490949</td>\n      <td>0.0000</td>\n      <td>1.0</td>\n    </tr>\n    <tr>\n      <th>2022-07-21</th>\n      <td>765.32</td>\n      <td>819.8</td>\n      <td>764.6</td>\n      <td>815.12</td>\n      <td>815.12</td>\n      <td>47344059</td>\n      <td>0.0000</td>\n      <td>1.0</td>\n    </tr>\n    <tr>\n      <th>2022-07-20</th>\n      <td>740.35</td>\n      <td>751.99</td>\n      <td>730.449</td>\n      <td>742.5</td>\n      <td>742.5</td>\n      <td>29621363</td>\n      <td>0.0000</td>\n      <td>1.0</td>\n    </tr>\n    <tr>\n      <th>2022-07-19</th>\n      <td>735.0</td>\n      <td>741.42</td>\n      <td>710.93</td>\n      <td>736.59</td>\n      <td>736.59</td>\n      <td>26963370</td>\n      <td>0.0000</td>\n      <td>1.0</td>\n    </tr>\n    <tr>\n      <th>2022-07-18</th>\n      <td>734.81</td>\n      <td>751.55</td>\n      <td>718.81</td>\n      <td>721.64</td>\n      <td>721.64</td>\n      <td>27512476</td>\n      <td>0.0000</td>\n      <td>1.0</td>\n    </tr>\n    <tr>\n      <th>...</th>\n      <td>...</td>\n      <td>...</td>\n      <td>...</td>\n      <td>...</td>\n      <td>...</td>\n      <td>...</td>\n      <td>...</td>\n      <td>...</td>\n    </tr>\n    <tr>\n      <th>2022-03-07</th>\n      <td>856.3</td>\n      <td>866.14</td>\n      <td>804.57</td>\n      <td>804.58</td>\n      <td>804.58</td>\n      <td>24164724</td>\n      <td>0.0000</td>\n      <td>1.0</td>\n    </tr>\n    <tr>\n      <th>2022-03-04</th>\n      <td>849.1</td>\n      <td>855.65</td>\n      <td>825.1609</td>\n      <td>838.29</td>\n      <td>838.29</td>\n      <td>22393287</td>\n      <td>0.0000</td>\n      <td>1.0</td>\n    </tr>\n    <tr>\n      <th>2022-03-03</th>\n      <td>878.77</td>\n      <td>886.439</td>\n      <td>832.6001</td>\n      <td>839.29</td>\n      <td>839.29</td>\n      <td>20541169</td>\n      <td>0.0000</td>\n      <td>1.0</td>\n    </tr>\n    <tr>\n      <th>2022-03-02</th>\n      <td>872.13</td>\n      <td>886.48</td>\n      <td>844.2721</td>\n      <td>879.89</td>\n      <td>879.89</td>\n      <td>24881146</td>\n      <td>0.0000</td>\n      <td>1.0</td>\n    </tr>\n    <tr>\n      <th>2022-03-01</th>\n      <td>869.68</td>\n      <td>889.88</td>\n      <td>853.78</td>\n      <td>864.37</td>\n      <td>864.37</td>\n      <td>24922287</td>\n      <td>0.0000</td>\n      <td>1.0</td>\n    </tr>\n  </tbody>\n</table>\n<p>100 rows × 8 columns</p>\n</div>"
     },
     "execution_count": 6,
     "metadata": {},
     "output_type": "execute_result"
    }
   ],
   "source": [
    "dc.data['TSLA'].time_series_daily"
   ],
   "metadata": {
    "collapsed": false,
    "pycharm": {
     "name": "#%%\n"
    }
   }
  },
  {
   "cell_type": "code",
   "execution_count": null,
   "outputs": [],
   "source": [],
   "metadata": {
    "collapsed": false,
    "pycharm": {
     "name": "#%%\n"
    }
   }
  }
 ],
 "metadata": {
  "kernelspec": {
   "display_name": "Python 3",
   "language": "python",
   "name": "python3"
  },
  "language_info": {
   "codemirror_mode": {
    "name": "ipython",
    "version": 2
   },
   "file_extension": ".py",
   "mimetype": "text/x-python",
   "name": "python",
   "nbconvert_exporter": "python",
   "pygments_lexer": "ipython2",
   "version": "2.7.6"
  }
 },
 "nbformat": 4,
 "nbformat_minor": 0
}